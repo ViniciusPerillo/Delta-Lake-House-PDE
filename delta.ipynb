{
 "cells": [
  {
   "cell_type": "markdown",
   "metadata": {},
   "source": [
    "# Implementação de um data lakehouse para dados geoespaciais com Eelta Lake"
   ]
  },
  {
   "cell_type": "code",
   "execution_count": 161,
   "metadata": {},
   "outputs": [],
   "source": [
    "import pyspark\n",
    "from delta import *\n",
    "import os\n",
    "\n",
    "bronze_path = \"./VED-lakehouse/bronze/\"\n",
    "silver_path = \"./VED-lakehouse/silver/\""
   ]
  },
  {
   "cell_type": "markdown",
   "metadata": {},
   "source": [
    "## Configurando Spark"
   ]
  },
  {
   "cell_type": "code",
   "execution_count": 162,
   "metadata": {},
   "outputs": [],
   "source": [
    "builder = pyspark.sql.SparkSession.builder.appName(\"MyApp\") \\\n",
    "    .config(\"spark.sql.extensions\", \"io.delta.sql.DeltaSparkSessionExtension\") \\\n",
    "    .config(\"spark.sql.catalog.spark_catalog\", \"org.apache.spark.sql.delta.catalog.DeltaCatalog\")\n",
    "\n",
    "spark = configure_spark_with_delta_pip(builder).getOrCreate()"
   ]
  },
  {
   "cell_type": "markdown",
   "metadata": {},
   "source": [
    "# Nível Bronze"
   ]
  },
  {
   "cell_type": "code",
   "execution_count": 163,
   "metadata": {},
   "outputs": [],
   "source": [
    "def _standardize_for_delta_columns(column: str) -> str:\n",
    "    if 'Air' in column:\n",
    "        column = column.replace('[', '_')[:-1]\n",
    "    else:\n",
    "        column = column.split('(')[0].split('[')[0]\n",
    "\n",
    "    column = column.replace(' ', '_').lower()\n",
    "\n",
    "    return(column)\n",
    "    "
   ]
  },
  {
   "cell_type": "code",
   "execution_count": 164,
   "metadata": {},
   "outputs": [],
   "source": [
    "def build_bronze():\n",
    "    csvs = os.listdir('data')\n",
    "\n",
    "    for csv in csvs:\n",
    "        if not os.path.exists(f'VED-lakehouse/bronze/{csv[4:-9]}/'):\n",
    "            df = spark.read.format(\"csv\").option(\"header\", True).load(f\"./data/{csv}\")\n",
    "            \n",
    "            columns = []\n",
    "            for column in df.columns:\n",
    "                columns.append(_standardize_for_delta_columns(column))\n",
    "\n",
    "            df = df.toDF(*columns)\n",
    "            \n",
    "            df.write.format(\"delta\").save(f\"{bronze_path}{csv[4:-9]}\")"
   ]
  },
  {
   "cell_type": "code",
   "execution_count": 165,
   "metadata": {},
   "outputs": [],
   "source": [
    "build_bronze()"
   ]
  },
  {
   "cell_type": "markdown",
   "metadata": {},
   "source": [
    "# Nível Prata"
   ]
  },
  {
   "cell_type": "code",
   "execution_count": 166,
   "metadata": {},
   "outputs": [
    {
     "name": "stdout",
     "output_type": "stream",
     "text": [
      "+-------------+-----+----+---------+-------------+--------------+-------------+--------------+----------+-------------+----+---------+-------------------------+----------------------------+------------+------------------+--------------+------------------+---------------------------+---------------------------+--------------------------+--------------------------+\n",
      "|       daynum|vehid|trip|timestamp|     latitude|     longitude|vehicle_speed|           maf|engine_rpm|absolute_load| oat|fuel_rate|air_conditioning_power_kw|air_conditioning_power_watts|heater_power|hv_battery_current|hv_battery_soc|hv_battery_voltage|short_term_fuel_trim_bank_1|short_term_fuel_trim_bank_2|long_term_fuel_trim_bank_1|long_term_fuel_trim_bank_2|\n",
      "+-------------+-----+----+---------+-------------+--------------+-------------+--------------+----------+-------------+----+---------+-------------------------+----------------------------+------------+------------------+--------------+------------------+---------------------------+---------------------------+--------------------------+--------------------------+\n",
      "|14.7590220278|  371|1370|   277900|42.2869880556|-83.7114669444|            0|0.709999978542|         0|          NaN|1.75|      NaN|                      NaN|                           0|         NaN|    -1.65002441406| 78.3215179443|             323.5|                        NaN|                        NaN|                       NaN|                       NaN|\n",
      "|14.7590220278|  371|1370|   278900|42.2869880556|-83.7114669444|            0|0.709999978542|         0|          NaN|1.75|      NaN|                      NaN|                           0|         NaN|    -1.20001220703| 78.3215179443|             323.5|                        NaN|                        NaN|                       NaN|                       NaN|\n",
      "|14.7590220278|  371|1370|   280700|42.2869880556|-83.7114669444|            0|0.709999978542|         0|          NaN|1.75|      NaN|                      NaN|                           0|         NaN|    -1.20001220703| 78.3215179443|             323.5|                        NaN|                        NaN|                       NaN|                       NaN|\n",
      "|14.7590220278|  371|1370|   281000|42.2869880556|-83.7114669444|            0|0.709999978542|         0|          NaN|1.75|      NaN|                      NaN|                           0|         NaN|              -1.5| 78.3215179443|             323.5|                        NaN|                        NaN|                       NaN|                       NaN|\n",
      "|14.7590220278|  371|1370|   282000|42.2869880556|-83.7114669444|            0|0.709999978542|         0|          NaN|1.75|      NaN|                      NaN|                           0|         NaN|    -1.20001220703| 78.3215179443|             323.5|                        NaN|                        NaN|                       NaN|                       NaN|\n",
      "|14.7590220278|  371|1370|   284200|42.2869880556|-83.7114669444|            0|0.709999978542|         0|          NaN|1.75|      NaN|                      NaN|                           0|         NaN|    -1.04998779297| 78.3215179443|             323.5|                        NaN|                        NaN|                       NaN|                       NaN|\n",
      "|14.7590220278|  371|1370|   285300|42.2869880556|-83.7114669444|            0|0.709999978542|         0|          NaN|1.75|      NaN|                      NaN|                           0|         NaN|    -1.20001220703| 78.3215179443|             323.5|                        NaN|                        NaN|                       NaN|                       NaN|\n",
      "|14.7590220278|  371|1370|   286300|42.2869880556|-83.7114669444|            0|0.709999978542|         0|          NaN|1.75|      NaN|                      NaN|                           0|         NaN|   -0.900024414063| 78.3215179443|             323.5|                        NaN|                        NaN|                       NaN|                       NaN|\n",
      "|14.7590220278|  371|1370|   287400|42.2869880556|-83.7114669444|            0|0.709999978542|         0|          NaN|1.75|      NaN|                      NaN|                           0|         NaN|    -1.04998779297| 78.3215179443|             323.5|                        NaN|                        NaN|                       NaN|                       NaN|\n",
      "|14.7590220278|  371|1370|   288400|42.2869880556|-83.7114669444|            0|0.709999978542|         0|          NaN|1.75|      NaN|                      NaN|                           0|         NaN|             -0.75| 78.3215179443|             323.5|                        NaN|                        NaN|                       NaN|                       NaN|\n",
      "|14.7590220278|  371|1370|   288800|42.2869880556|-83.7114669444|            0|0.709999978542|         0|          NaN|1.75|      NaN|                      NaN|                           0|         NaN|             -0.75| 78.3215179443|               324|                        NaN|                        NaN|                       NaN|                       NaN|\n",
      "|14.7590220278|  371|1370|   289500|42.2869880556|-83.7114669444|            0|0.709999978542|         0|          NaN|1.75|      NaN|                      NaN|                           0|         NaN|   -0.900024414063| 78.3215179443|               324|                        NaN|                        NaN|                       NaN|                       NaN|\n",
      "|14.7590220278|  371|1370|   290500|42.2869880556|-83.7114669444|            0|0.709999978542|         0|          NaN|1.75|      NaN|                      NaN|                           0|         NaN|              -1.5| 78.3215179443|               324|                        NaN|                        NaN|                       NaN|                       NaN|\n",
      "|14.7590220278|  371|1370|   291500|42.2869880556|-83.7114669444|            0|0.709999978542|         0|          NaN|1.75|      NaN|                      NaN|                           0|         NaN|    -2.29998779297| 78.3215179443|               324|                        NaN|                        NaN|                       NaN|                       NaN|\n",
      "|14.7590220278|  371|1370|   292600|42.2869880556|-83.7114669444|            0|0.709999978542|         0|          NaN|1.75|      NaN|                      NaN|                           0|         NaN|             -2.75| 78.3215179443|               324|                        NaN|                        NaN|                       NaN|                       NaN|\n",
      "|14.7590220278|  371|1370|   293000|42.2871341667|-83.7115569444|            0|0.709999978542|         0|          NaN|1.75|      NaN|                      NaN|                           0|         NaN|             -2.75| 78.3215179443|               324|                        NaN|                        NaN|                       NaN|                       NaN|\n",
      "|14.7590220278|  371|1370|   293700|42.2871341667|-83.7115569444|2.00999999046|0.709999978542|         0|          NaN|   2|      NaN|                      NaN|                           0|         NaN|     -19.700012207| 78.3215179443|               321|                        NaN|                        NaN|                       NaN|                       NaN|\n",
      "|14.7590220278|  371|1370|   294700|42.2871341667|-83.7115569444|8.64999961853|0.709999978542|         0|          NaN|   2|      NaN|                      NaN|                           0|         NaN|    -45.1500244141| 78.3215179443|               321|                        NaN|                        NaN|                       NaN|                       NaN|\n",
      "|14.7590220278|  371|1370|   294800|42.2871341667|-83.7115569444|8.64999961853|0.709999978542|         0|          NaN|   2|      NaN|                      NaN|                           0|         NaN|    -45.1500244141| 78.1493759155|               321|                        NaN|                        NaN|                       NaN|                       NaN|\n",
      "|14.7590220278|  371|1370|   295800|42.2871341667|-83.7115569444|13.9399995804|0.709999978542|         0|          NaN|   2|      NaN|                      NaN|                           0|         NaN|     -52.950012207| 78.1493759155|               321|                        NaN|                        NaN|                       NaN|                       NaN|\n",
      "+-------------+-----+----+---------+-------------+--------------+-------------+--------------+----------+-------------+----+---------+-------------------------+----------------------------+------------+------------------+--------------+------------------+---------------------------+---------------------------+--------------------------+--------------------------+\n",
      "only showing top 20 rows\n",
      "\n"
     ]
    }
   ],
   "source": [
    "from pyspark.sql import SparkSession\n",
    "from pyspark.sql.functions import col, isnan, sum as _sum, min as _min, max as _max\n",
    "\n",
    "numeric_columns = [\n",
    "\t'vehicle_speed', 'maf', 'engine_rpm', 'absolute_load', 'oat',\n",
    "\t'fuel_rate', 'air_conditioning_power_kw', 'air_conditioning_power_watts',\n",
    "\t'heater_power', 'hv_battery_current', 'hv_battery_soc', 'hv_battery_voltage',\n",
    "\t'short_term_fuel_trim_bank_1', 'short_term_fuel_trim_bank_2',\n",
    "\t'long_term_fuel_trim_bank_1', 'long_term_fuel_trim_bank_2'\n",
    "]\n",
    "\n",
    "\n",
    "df = spark.read.format('delta').option(\"header\", True).load('VED-lakehouse/bronze/171108')\n",
    "df.show()"
   ]
  },
  {
   "cell_type": "markdown",
   "metadata": {},
   "source": [
    "Transformação de valores string para valores numéricos"
   ]
  },
  {
   "cell_type": "code",
   "execution_count": 167,
   "metadata": {},
   "outputs": [],
   "source": [
    "def build_silver():\n",
    "    bronze_arch = os.listdir(bronze_path)\n",
    "\n",
    "    for num in bronze_arch:\n",
    "        if not os.path.exists(f'VED-lakehouse/silver/{num}/'):\n",
    "            df = spark.read.format('delta').option(\"header\", True).load(f'VED-lakehouse/bronze/{num}')\n",
    "\n",
    "            columns = []\n",
    "            for column in df.columns:\n",
    "                columns.append(_standardize_for_delta_columns(column))\n",
    "\n",
    "            for column in numeric_columns:\n",
    "                df = df.withColumn(column, col(column).cast('float'))\n",
    "\n",
    "            df = df.dropna(how='all')\n",
    "\n",
    "            df = df.dropDuplicates()\n",
    "            \n",
    "            for column in numeric_columns:\n",
    "                max_value = df.agg(_max(column)).collect()[0][0]\n",
    "                min_value = df.agg(_min(column)).collect()[0][0]\n",
    "\n",
    "                columns = columns\n",
    "                if max_value != min_value: \n",
    "                    normalized_col = (col(column) - min_value) / (max_value - min_value)\n",
    "                    col_name = f\"{column}_norm\"\n",
    "                    df = df.withColumn(col_name, normalized_col)\n",
    "                    columns.append(col_name)\n",
    "                    \n",
    "            df = df.toDF(*columns)\n",
    "            df.write.format(\"delta\").mode(\"overwrite\").save(f\"{silver_path}{num}\")\n"
   ]
  },
  {
   "cell_type": "code",
   "execution_count": 168,
   "metadata": {},
   "outputs": [
    {
     "name": "stdout",
     "output_type": "stream",
     "text": [
      "['171101', '171108', '171115', '171122', '171129', '171206', '171213', '171220', '171227', '180103', '180110', '180117', '180124', '180131', '180207', '180214', '180221', '180228', '180307', '180314', '180321', '180328', '180404', '180411', '180418', '180425', '180502', '180509', '180516', '180523', '180530', '180606', '180613', '180620', '180627', '180704', '180711', '180718', '180725', '180801', '180808', '180815', '180822', '180829', '180905', '180912', '180919', '180926', '181003', '181010', '181017', '181024', '181031', '181107']\n"
     ]
    }
   ],
   "source": [
    "build_silver()"
   ]
  },
  {
   "cell_type": "code",
   "execution_count": 172,
   "metadata": {},
   "outputs": [
    {
     "name": "stdout",
     "output_type": "stream",
     "text": [
      "+-------------+-----+----+---------+-------------+--------------+-------------+-----+----------+-------------+---+---------+-------------------------+----------------------------+------------+------------------+--------------+------------------+---------------------------+---------------------------+--------------------------+--------------------------+------------------+--------+---------------+------------------+--------+--------------+------------------------------+---------------------------------+-----------------+-----------------------+-------------------+-----------------------+--------------------------------+--------------------------------+-------------------------------+-------------------------------+\n",
      "|       daynum|vehid|trip|timestamp|     latitude|     longitude|vehicle_speed|  maf|engine_rpm|absolute_load|oat|fuel_rate|air_conditioning_power_kw|air_conditioning_power_watts|heater_power|hv_battery_current|hv_battery_soc|hv_battery_voltage|short_term_fuel_trim_bank_1|short_term_fuel_trim_bank_2|long_term_fuel_trim_bank_1|long_term_fuel_trim_bank_2|vehicle_speed_norm|maf_norm|engine_rpm_norm|absolute_load_norm|oat_norm|fuel_rate_norm|air_conditioning_power_kw_norm|air_conditioning_power_watts_norm|heater_power_norm|hv_battery_current_norm|hv_battery_soc_norm|hv_battery_voltage_norm|short_term_fuel_trim_bank_1_norm|short_term_fuel_trim_bank_2_norm|long_term_fuel_trim_bank_1_norm|long_term_fuel_trim_bank_2_norm|\n",
      "+-------------+-----+----+---------+-------------+--------------+-------------+-----+----------+-------------+---+---------+-------------------------+----------------------------+------------+------------------+--------------+------------------+---------------------------+---------------------------+--------------------------+--------------------------+------------------+--------+---------------+------------------+--------+--------------+------------------------------+---------------------------------+-----------------+-----------------------+-------------------+-----------------------+--------------------------------+--------------------------------+-------------------------------+-------------------------------+\n",
      "|10.5288226204|  418| 523|  1248800|42.3024886111|-83.7068641667|         44.0| 12.9|    1408.0|     49.80392|NaN|      NaN|                      NaN|                         NaN|         NaN|               NaN|           NaN|               NaN|                     1.5625|                        NaN|                  -0.78125|                       NaN|               NaN|     NaN|            NaN|               NaN|     NaN|           NaN|                           NaN|                              NaN|              NaN|                    NaN|                NaN|                    NaN|                             NaN|                             NaN|                            NaN|                            NaN|\n",
      "|10.9184923796|  432| 922|     3600|42.2307461111|-83.6801955556|         52.0|49.38|    4015.0|    121.56863|NaN|      NaN|                      NaN|                         NaN|         NaN|               NaN|           NaN|               NaN|                     -3.125|                        NaN|                       0.0|                       NaN|               NaN|     NaN|            NaN|               NaN|     NaN|           NaN|                           NaN|                              NaN|              NaN|                    NaN|                NaN|                    NaN|                             NaN|                             NaN|                            NaN|                            NaN|\n",
      "|10.9184923796|  432| 922|   145200|      42.2302|-83.7067586111|         64.0|24.77|    2090.0|   125.882355|NaN|      NaN|                      NaN|                         NaN|         NaN|               NaN|           NaN|               NaN|                     1.5625|                        NaN|                 -24.21875|                       NaN|               NaN|     NaN|            NaN|               NaN|     NaN|           NaN|                           NaN|                              NaN|              NaN|                    NaN|                NaN|                    NaN|                             NaN|                             NaN|                            NaN|                            NaN|\n",
      "|10.5588615926|  439| 469|    10200|42.2305186111|-83.7390136111|         51.0| 1.77|     268.0|    24.705883|NaN|      NaN|                      NaN|                         NaN|         NaN|               NaN|           NaN|               NaN|                        0.0|                        NaN|                   0.78125|                       NaN|               NaN|     NaN|            NaN|               NaN|     NaN|           NaN|                           NaN|                              NaN|              NaN|                    NaN|                NaN|                    NaN|                             NaN|                             NaN|                            NaN|                            NaN|\n",
      "|10.5588615926|  439| 469|    62200|42.2340316667|-83.7390430556|         64.0|15.84|    1870.0|    39.607845|NaN|      NaN|                      NaN|                         NaN|         NaN|               NaN|           NaN|               NaN|                    0.78125|                        NaN|                   0.78125|                       NaN|               NaN|     NaN|            NaN|               NaN|     NaN|           NaN|                           NaN|                              NaN|              NaN|                    NaN|                NaN|                    NaN|                             NaN|                             NaN|                            NaN|                            NaN|\n",
      "|10.5588615926|  439| 469|   376200|42.2810602778|-83.7836836111|         20.0| 0.71|       0.0|          0.0|NaN|      NaN|                      NaN|                         NaN|         NaN|               NaN|           NaN|               NaN|                        0.0|                        NaN|                   0.78125|                       NaN|               NaN|     NaN|            NaN|               NaN|     NaN|           NaN|                           NaN|                              NaN|              NaN|                    NaN|                NaN|                    NaN|                             NaN|                             NaN|                            NaN|                            NaN|\n",
      "|10.6681506667|  439| 470|    49100|   42.2848625|-83.7952991667|         66.0| 1.39|     726.0|          0.0|NaN|      NaN|                      NaN|                         NaN|         NaN|               NaN|           NaN|               NaN|                        0.0|                        NaN|                   0.78125|                       NaN|               NaN|     NaN|            NaN|               NaN|     NaN|           NaN|                           NaN|                              NaN|              NaN|                    NaN|                NaN|                    NaN|                             NaN|                             NaN|                            NaN|                            NaN|\n",
      "|10.6681506667|  439| 470|   394900|42.2641411111|-83.7513027778|         34.0| 0.71|       0.0|          0.0|NaN|      NaN|                      NaN|                         NaN|         NaN|               NaN|           NaN|               NaN|                        0.0|                        NaN|                    1.5625|                       NaN|               NaN|     NaN|            NaN|               NaN|     NaN|           NaN|                           NaN|                              NaN|              NaN|                    NaN|                NaN|                    NaN|                             NaN|                             NaN|                            NaN|                            NaN|\n",
      "|10.6681506667|  439| 470|   555900|42.2739616667|    -83.748975|         28.0| 0.71|       0.0|          0.0|NaN|      NaN|                      NaN|                         NaN|         NaN|               NaN|           NaN|               NaN|                        0.0|                        NaN|                    1.5625|                       NaN|               NaN|     NaN|            NaN|               NaN|     NaN|           NaN|                           NaN|                              NaN|              NaN|                    NaN|                NaN|                    NaN|                             NaN|                             NaN|                            NaN|                            NaN|\n",
      "|10.6681506667|  439| 470|   681000|42.2812197222|     -83.74842|          0.0| 0.71|       0.0|          0.0|NaN|      NaN|                      NaN|                         NaN|         NaN|               NaN|           NaN|               NaN|                        0.0|                        NaN|                    1.5625|                       NaN|               NaN|     NaN|            NaN|               NaN|     NaN|           NaN|                           NaN|                              NaN|              NaN|                    NaN|                NaN|                    NaN|                             NaN|                             NaN|                            NaN|                            NaN|\n",
      "|10.6681506667|  439| 470|   935500|42.2774833333|-83.7333361111|         21.0| 0.71|       0.0|          0.0|NaN|      NaN|                      NaN|                         NaN|         NaN|               NaN|           NaN|               NaN|                        0.0|                        NaN|                    1.5625|                       NaN|               NaN|     NaN|            NaN|               NaN|     NaN|           NaN|                           NaN|                              NaN|              NaN|                    NaN|                NaN|                    NaN|                             NaN|                             NaN|                            NaN|                            NaN|\n",
      "|10.6681506667|  439| 470|   949000|42.2774455556|-83.7319841667|         27.0| 0.71|       0.0|          0.0|NaN|      NaN|                      NaN|                         NaN|         NaN|               NaN|           NaN|               NaN|                        0.0|                        NaN|                    1.5625|                       NaN|               NaN|     NaN|            NaN|               NaN|     NaN|           NaN|                           NaN|                              NaN|              NaN|                    NaN|                NaN|                    NaN|                             NaN|                             NaN|                            NaN|                            NaN|\n",
      "| 10.880751213|  449|1248|   180800|42.2877466667|   -83.7624325|         60.6|18.81|    1564.0|          NaN|9.0|      NaN|                      NaN|                         0.0|         NaN|         25.299988|           0.0|             296.5|                        NaN|                        NaN|                       NaN|                       NaN|               NaN|     NaN|            NaN|               NaN|     NaN|           NaN|                           NaN|                              NaN|              NaN|                    NaN|                NaN|                    NaN|                             NaN|                             NaN|                            NaN|                            NaN|\n",
      "| 10.880751213|  449|1248|   183300|42.2879427778|-83.7629833333|        56.25| 19.4|    1792.0|          NaN|9.0|      NaN|                      NaN|                         0.0|         NaN|         26.549988|           0.0|             296.5|                        NaN|                        NaN|                       NaN|                       NaN|               NaN|     NaN|            NaN|               NaN|     NaN|           NaN|                           NaN|                              NaN|              NaN|                    NaN|                NaN|                    NaN|                             NaN|                             NaN|                            NaN|                            NaN|\n",
      "|10.9155504259|  455| 588|   170900|     42.27539|-83.6843438889|        60.55|  NaN|       NaN|          NaN|7.5|      NaN|                      NaN|                       400.0|         0.0|             -47.5|      81.34147|             376.5|                        NaN|                        NaN|                       NaN|                       NaN|               NaN|     NaN|            NaN|               NaN|     NaN|           NaN|                           NaN|                              NaN|              NaN|                    NaN|                NaN|                    NaN|                             NaN|                             NaN|                            NaN|                            NaN|\n",
      "|10.9155504259|  455| 588|   250500|42.2775111111|-83.6963861111|        52.44|  NaN|       NaN|          NaN|7.5|      NaN|                      NaN|                       450.0|         0.0|             -41.0|      80.36586|             373.0|                        NaN|                        NaN|                       NaN|                       NaN|               NaN|     NaN|            NaN|               NaN|     NaN|           NaN|                           NaN|                              NaN|              NaN|                    NaN|                NaN|                    NaN|                             NaN|                             NaN|                            NaN|                            NaN|\n",
      "|10.9155504259|  455| 588|   304700|42.2776511111|-83.6985427778|          0.0|  NaN|       NaN|          NaN|7.5|      NaN|                      NaN|                       450.0|         0.0|              -2.0|          80.0|             383.5|                        NaN|                        NaN|                       NaN|                       NaN|               NaN|     NaN|            NaN|               NaN|     NaN|           NaN|                           NaN|                              NaN|              NaN|                    NaN|                NaN|                    NaN|                             NaN|                             NaN|                            NaN|                            NaN|\n",
      "|10.9155504259|  455| 588|   498900|42.2593533333|-83.6954227778|        34.96|  NaN|       NaN|          NaN|8.0|      NaN|                      NaN|                       450.0|         0.0|              18.5|      77.07318|             384.5|                        NaN|                        NaN|                       NaN|                       NaN|               NaN|     NaN|            NaN|               NaN|     NaN|           NaN|                           NaN|                              NaN|              NaN|                    NaN|                NaN|                    NaN|                             NaN|                             NaN|                            NaN|                            NaN|\n",
      "|10.9155504259|  455| 588|   749300|42.2539408333|-83.6973402778|    64.729996|  NaN|       NaN|          NaN|8.0|      NaN|                      NaN|                       400.0|         0.0|             -31.5|     76.463425|             377.5|                        NaN|                        NaN|                       NaN|                       NaN|               NaN|     NaN|            NaN|               NaN|     NaN|           NaN|                           NaN|                              NaN|              NaN|                    NaN|                NaN|                    NaN|                             NaN|                             NaN|                            NaN|                            NaN|\n",
      "|10.2846546296|  457|1109|    28700|42.2409036111|-83.7197691667|     49.46875|  NaN|    1876.0|          NaN|0.0|7.1072702|                      0.0|                         NaN|         NaN|         36.600002|      1.176471|            352.56|                        NaN|                        NaN|                       NaN|                       NaN|               NaN|     NaN|            NaN|               NaN|     NaN|           NaN|                           NaN|                              NaN|              NaN|                    NaN|                NaN|                    NaN|                             NaN|                             NaN|                            NaN|                            NaN|\n",
      "+-------------+-----+----+---------+-------------+--------------+-------------+-----+----------+-------------+---+---------+-------------------------+----------------------------+------------+------------------+--------------+------------------+---------------------------+---------------------------+--------------------------+--------------------------+------------------+--------+---------------+------------------+--------+--------------+------------------------------+---------------------------------+-----------------+-----------------------+-------------------+-----------------------+--------------------------------+--------------------------------+-------------------------------+-------------------------------+\n",
      "only showing top 20 rows\n",
      "\n"
     ]
    }
   ],
   "source": [
    "df = spark.read.format('delta').option(\"header\", True).load('VED-lakehouse/silver/171108')\n",
    "df.show()"
   ]
  }
 ],
 "metadata": {
  "kernelspec": {
   "display_name": "Python 3",
   "language": "python",
   "name": "python3"
  },
  "language_info": {
   "codemirror_mode": {
    "name": "ipython",
    "version": 3
   },
   "file_extension": ".py",
   "mimetype": "text/x-python",
   "name": "python",
   "nbconvert_exporter": "python",
   "pygments_lexer": "ipython3",
   "version": "3.11.9"
  }
 },
 "nbformat": 4,
 "nbformat_minor": 2
}
